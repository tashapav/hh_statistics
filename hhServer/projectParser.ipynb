{
 "cells": [
  {
   "cell_type": "code",
   "execution_count": null,
   "id": "d85c9362-10dd-4170-8971-57238c438192",
   "metadata": {},
   "outputs": [],
   "source": [
    "#pip install psycopg2\n",
    "#pip install psycopg2-binary\n",
    "#pip install sqlalchemy"
   ]
  },
  {
   "cell_type": "code",
   "execution_count": null,
   "id": "54adf793",
   "metadata": {},
   "outputs": [],
   "source": [
    "import requests\n",
    "from sqlalchemy import create_engine \n",
    "from sqlalchemy.engine import URL\n",
    "import pandas as pd"
   ]
  },
  {
   "cell_type": "markdown",
   "id": "4403d738",
   "metadata": {},
   "source": [
    "# Подключение к постгрес и создание таблиц"
   ]
  },
  {
   "cell_type": "code",
   "execution_count": null,
   "id": "68e59efd",
   "metadata": {},
   "outputs": [],
   "source": [
    "url_object = URL.create(\n",
    "    \"postgresql+psycopg2\",     \n",
    "    username='postgres',     \n",
    "    password='1234qwe',     \n",
    "    host='localhost',     \n",
    "    database='postgres',\n",
    "    port='5432'\n",
    ")  \n",
    "engine = create_engine(url_object)"
   ]
  },
  {
   "cell_type": "code",
   "execution_count": null,
   "id": "9d763e2d",
   "metadata": {},
   "outputs": [],
   "source": [
    "query_create_vacancies = \"\"\"Create table vacancies(\n",
    "    vacancy_id INT,\n",
    "    title TEXT,\n",
    "    min_salary INT,\n",
    "    max_salary INT, \n",
    "    city TEXT,\n",
    "    work_exp Text,\n",
    "    company Text,\n",
    "    employment Text\n",
    ")\"\"\""
   ]
  },
  {
   "cell_type": "code",
   "execution_count": null,
   "id": "c83f8894-9e29-4c04-8332-181d72b84275",
   "metadata": {},
   "outputs": [],
   "source": [
    "with engine.connect() as conn:\n",
    "    conn.exec_driver_sql(query_create_vacancies)\n",
    "    conn.commit()"
   ]
  },
  {
   "cell_type": "code",
   "execution_count": null,
   "id": "10fb4778",
   "metadata": {},
   "outputs": [],
   "source": [
    "query_create_vacancies_queries = \"\"\"Create table vacancies_queries(\n",
    "    vacancy_id INT,\n",
    "    search_id INT\n",
    ")\"\"\""
   ]
  },
  {
   "cell_type": "code",
   "execution_count": null,
   "id": "773f1115",
   "metadata": {},
   "outputs": [],
   "source": [
    "with engine.connect() as conn:\n",
    "    conn.exec_driver_sql(query_create_vacancies_queries)\n",
    "    conn.commit()"
   ]
  },
  {
   "cell_type": "code",
   "execution_count": null,
   "id": "a6a11f53",
   "metadata": {},
   "outputs": [],
   "source": [
    "query_create_queries = \"\"\"Create table queries(\n",
    "    search_id SERIAL Primary key,\n",
    "    search_text Text\n",
    ")\"\"\""
   ]
  },
  {
   "cell_type": "code",
   "execution_count": null,
   "id": "8d44b600",
   "metadata": {},
   "outputs": [],
   "source": [
    "with engine.connect() as conn:\n",
    "    conn.exec_driver_sql(query_create_queries)\n",
    "    conn.commit()"
   ]
  },
  {
   "cell_type": "code",
   "execution_count": null,
   "id": "384a69c2",
   "metadata": {},
   "outputs": [],
   "source": [
    "pd.read_sql_query('select * from information_schema.tables', engine)# проверка, что таблицы успешно созданы"
   ]
  },
  {
   "cell_type": "markdown",
   "id": "680d6114",
   "metadata": {},
   "source": [
    "# Парсинг и сохранение в БД"
   ]
  },
  {
   "cell_type": "code",
   "execution_count": null,
   "id": "21dfc781",
   "metadata": {},
   "outputs": [],
   "source": [
    "#список запросов(вакансий) для парсинга\n",
    "vacancies_to_parse = ['Data Engineer', 'Analyst', 'Data Scientist', 'Business Analyst', 'Python Developer']"
   ]
  },
  {
   "cell_type": "code",
   "execution_count": null,
   "id": "7376a9fc",
   "metadata": {},
   "outputs": [],
   "source": [
    "# сохраняем вакансии в БД\n",
    "pd.DataFrame(vacancies_to_parse, columns=['search_text']).to_sql('queries', con=engine, if_exists='append', index=False)"
   ]
  },
  {
   "cell_type": "code",
   "execution_count": null,
   "id": "5e63cc66",
   "metadata": {},
   "outputs": [],
   "source": [
    "# Функция для получения вакансий\n",
    "def get_vacancies(vacancy, page):\n",
    "    url = 'https://api.hh.ru/vacancies'\n",
    "    params = {\n",
    "        'text': f\"{vacancy}\",\n",
    "        'specialization': 1,\n",
    "        'per_page': 100,\n",
    "        'page': page\n",
    "    }\n",
    "\n",
    "    response = requests.get(url, params=params) \n",
    "    return response"
   ]
  },
  {
   "cell_type": "code",
   "execution_count": null,
   "id": "76629ef0",
   "metadata": {},
   "outputs": [],
   "source": [
    "#функция для извлечения нужных данных из json\n",
    "def parse_vacancy(vacancy_json): \n",
    "    vacancy_id = vacancy_json['id']\n",
    "    title = vacancy_json['name']\n",
    "    try:\n",
    "        min_salary = vacancy_json['salary']['from']\n",
    "    except:\n",
    "        min_salary = None\n",
    "    try:\n",
    "        max_salary = vacancy_json['salary']['to']\n",
    "    except:\n",
    "        max_salary = None\n",
    "    city = vacancy_json['area']['name']\n",
    "    company = vacancy_json['employer']['name']\n",
    "    employment = vacancy_json['employment']['name']\n",
    "    work_exp = vacancy_json['experience']['name']\n",
    "    \n",
    "    dct = {'vacancy_id': vacancy_id, 'title': title, 'min_salary': min_salary, 'max_salary': max_salary,\n",
    "     'city': city, 'work_exp': work_exp, 'company': company, 'employment': employment}\n",
    "    \n",
    "    return dct"
   ]
  },
  {
   "cell_type": "code",
   "execution_count": null,
   "id": "320409e5-bfc0-4f95-8e37-89a8aa92a06d",
   "metadata": {},
   "outputs": [],
   "source": [
    "for vacancy in vacancies_to_parse:\n",
    "    #Получаем вакансии на первых 10 страницах по данному запросу\n",
    "    res_df = pd.DataFrame()\n",
    "    for page_number in range(1, 11):\n",
    "        vacansies = get_vacancies(vacancy, page_number)\n",
    "        for vacancy_json in response.json()['items']:\n",
    "            res_df = pd.concat([res_df, pd.DataFrame(parse_vacancy(vacancy_json), index=[0])])\n",
    "    res_df = res_df.drop_duplicates()\n",
    "    res_df['vacancy_id'] = res_df['vacancy_id'].astype(int)\n",
    "    \n",
    "    #получаем список всех сохраненных вакансий, сохраняем только новые\n",
    "    saved_vacancies = pd.read_sql_query('select vacancy_id from vacancies', engine).vacancy_id.unique()\n",
    "    res_df.query('vacancy_id not in @saved_vac').to_sql('vacancies', con=engine, if_exists='append', index=False)\n",
    "    \n",
    "    #получаем search_id для данного запроса, сохраняем все связи между вакансиями и запросом в таблице vacancies_queries\n",
    "    queries = pd.read_sql_query('select * from queries', engine)\n",
    "    search_id = queries.query('search_text == @vacancy')['search_id'].values[0]\n",
    "    res_df['search_id'] = search_id\n",
    "    res_df[['vacancy_id', 'search_id']].to_sql('vacancies_queries', con=engine, if_exists='append', index=False)\n",
    "\n",
    "\n"
   ]
  }
 ],
 "metadata": {
  "kernelspec": {
   "display_name": "Python 3 (ipykernel)",
   "language": "python",
   "name": "python3"
  },
  "language_info": {
   "codemirror_mode": {
    "name": "ipython",
    "version": 3
   },
   "file_extension": ".py",
   "mimetype": "text/x-python",
   "name": "python",
   "nbconvert_exporter": "python",
   "pygments_lexer": "ipython3",
   "version": "3.11.9"
  }
 },
 "nbformat": 4,
 "nbformat_minor": 5
}
